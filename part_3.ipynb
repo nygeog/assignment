{
 "cells": [
  {
   "cell_type": "code",
   "execution_count": 2,
   "metadata": {},
   "outputs": [],
   "source": [
    "from tools.helpers import read_json, pandas_keep_columns\n",
    "from sklearn.linear_model import LogisticRegression\n",
    "from sklearn.metrics import accuracy_score\n",
    "import pandas as pd\n",
    "import numpy as np\n",
    "import matplotlib.pyplot as plt\n",
    "plt.rcParams['figure.figsize'] = [15, 5]"
   ]
  },
  {
   "cell_type": "code",
   "execution_count": 10,
   "metadata": {},
   "outputs": [
    {
     "name": "stdout",
     "output_type": "stream",
     "text": [
      "0.9237720664859534\n",
      "[[ 6.50741583e-05  1.07546789e-03  1.08384642e-01 -3.53693596e-06\n",
      "   1.15329040e-02  8.63305280e-06 -1.07721646e-03 -9.43057539e-04\n",
      "  -1.74222707e-02 -8.68195412e-03 -3.29726260e-03 -9.60413770e-03\n",
      "   9.60252283e-03 -7.78170143e-03 -3.60795278e-03  2.56387264e-03\n",
      "   4.06841245e-03  3.32752680e-03  1.14804835e-03  2.80179113e-04]]\n"
     ]
    }
   ],
   "source": [
    "df = pd.read_csv(\n",
    "    'data/processing/data_filtered.csv',\n",
    "    low_memory=False,\n",
    ")\n",
    "\n",
    "df = df.drop(\n",
    "    [\n",
    "        'issue_date',  # parsed out to month and year\n",
    "        'z_score_annual_inc',  # removing these, for filtering part 1\n",
    "        'z_score_revol_bal',  # removing these, for filtering part 1\n",
    "        'z_score_dti',  # removing these, for filtering part 1\n",
    "        'year_grade',  # year and grade are also own columns\n",
    "        'loan_status',  # this is dummy in 'default' col\n",
    "        'max_date',  # removing, for filtering in part 2\n",
    "        'issue_d',\n",
    "    ],\n",
    "    axis=1,\n",
    ")\n",
    "\n",
    "one_hot = pd.get_dummies(df)\n",
    "\n",
    "# print(one_hot.head(15))\n",
    "\n",
    "x = one_hot.drop('default', axis=1)\n",
    "y = df[['default']]\n",
    "\n",
    "# x.to_csv('data/processing/data_filtered_train.csv')\n",
    "\n",
    "model = LogisticRegression(solver='lbfgs', max_iter=500)\n",
    "model.fit(x, y.values.ravel())\n",
    "predicted_classes = model.predict(x)\n",
    "#accuracy = accuracy_score(y.flatten(), predicted_classes)\n",
    "accuracy = accuracy_score(y.values.ravel(), predicted_classes)\n",
    "parameters = model.coef_\n",
    "print(accuracy)\n",
    "print(parameters)"
   ]
  },
  {
   "cell_type": "code",
   "execution_count": 11,
   "metadata": {},
   "outputs": [
    {
     "name": "stdout",
     "output_type": "stream",
     "text": [
      "Accuracy of logistic regression classifier on test set: 0.92\n"
     ]
    }
   ],
   "source": [
    "print('Accuracy of logistic regression classifier on test set: {:.2f}'.format(model.score(x, y)))\n"
   ]
  },
  {
   "cell_type": "code",
   "execution_count": 12,
   "metadata": {},
   "outputs": [
    {
     "name": "stdout",
     "output_type": "stream",
     "text": [
      "[[ 990831   32936]\n",
      " [ 135819 1054235]]\n"
     ]
    }
   ],
   "source": [
    "from sklearn.metrics import confusion_matrix\n",
    "confusion_matrix = confusion_matrix(y, predicted_classes)\n",
    "print(confusion_matrix)\n"
   ]
  },
  {
   "cell_type": "code",
   "execution_count": 13,
   "metadata": {},
   "outputs": [
    {
     "name": "stdout",
     "output_type": "stream",
     "text": [
      "              precision    recall  f1-score   support\n",
      "\n",
      "           0       0.88      0.97      0.92   1023767\n",
      "           1       0.97      0.89      0.93   1190054\n",
      "\n",
      "    accuracy                           0.92   2213821\n",
      "   macro avg       0.92      0.93      0.92   2213821\n",
      "weighted avg       0.93      0.92      0.92   2213821\n",
      "\n"
     ]
    }
   ],
   "source": [
    "from sklearn.metrics import classification_report\n",
    "print(classification_report(y, predicted_classes))\n"
   ]
  },
  {
   "cell_type": "code",
   "execution_count": 14,
   "metadata": {},
   "outputs": [
    {
     "data": {
      "image/png": "[encoded data removed]",
      "text/plain": [
       "<Figure size 432x288 with 1 Axes>"
      ]
     },
     "metadata": {
      "needs_background": "light"
     },
     "output_type": "display_data"
    }
   ],
   "source": [
    "from sklearn.metrics import roc_auc_score\n",
    "from sklearn.metrics import roc_curve\n",
    "logit_roc_auc = roc_auc_score(y, model.predict(x))\n",
    "fpr, tpr, thresholds = roc_curve(y, model.predict_proba(x)[:,1])\n",
    "plt.figure()\n",
    "plt.plot(fpr, tpr, label='Logistic Regression (area = %0.2f)' % logit_roc_auc)\n",
    "plt.plot([0, 1], [0, 1],'r--')\n",
    "plt.xlim([0.0, 1.0])\n",
    "plt.ylim([0.0, 1.05])\n",
    "plt.xlabel('False Positive Rate')\n",
    "plt.ylabel('True Positive Rate')\n",
    "plt.title('Receiver operating characteristic')\n",
    "plt.legend(loc=\"lower right\")\n",
    "plt.savefig('Log_ROC')\n",
    "plt.show()\n",
    "\n"
   ]
  },
  {
   "cell_type": "code",
   "execution_count": null,
   "metadata": {},
   "outputs": [],
   "source": []
  }
 ],
 "metadata": {
  "kernelspec": {
   "display_name": "Python 3",
   "language": "python",
   "name": "python3"
  },
  "language_info": {
   "codemirror_mode": {
    "name": "ipython",
    "version": 3
   },
   "file_extension": ".py",
   "mimetype": "text/x-python",
   "name": "python",
   "nbconvert_exporter": "python",
   "pygments_lexer": "ipython3",
   "version": "3.7.2"
  }
 },
 "nbformat": 4,
 "nbformat_minor": 2
}
