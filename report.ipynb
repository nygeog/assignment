{
 "cells": [
  {
   "cell_type": "markdown",
   "metadata": {},
   "source": [
    "# Assignment\n",
    "### Dependencies\n",
    "Using Python 3.7\n",
    "\n",
    "    pip install ipython\n",
    "    pip install pandas\n",
    "    pip install matplotlib\n",
    "    pip install -U scikit-learn\n",
    "    pip install jupyter notebook\n",
    "    \n",
    "### Import functions"
   ]
  },
  {
   "cell_type": "code",
   "execution_count": 6,
   "metadata": {},
   "outputs": [],
   "source": [
    "from tools.helpers import read_json, pandas_keep_columns, retrieve_data\n",
    "from tools.helpers import create_project_workspace\n",
    "from assignment import setup_workspace_retrieve_and_parse_data\n",
    "from sklearn.linear_model import LogisticRegression\n",
    "from sklearn.model_selection import train_test_split\n",
    "from sklearn.metrics import confusion_matrix\n",
    "from sklearn.metrics import classification_report\n",
    "from sklearn.metrics import roc_auc_score\n",
    "from sklearn.metrics import roc_curve\n",
    "import pandas as pd\n",
    "import numpy as np\n",
    "import matplotlib.pyplot as plt\n",
    "plt.rcParams['figure.figsize'] = [15, 5]"
   ]
  },
  {
   "cell_type": "markdown",
   "metadata": {},
   "source": [
    "### Read Project Configuration file\n",
    "This contains download link, file names and columns to use. "
   ]
  },
  {
   "cell_type": "code",
   "execution_count": 13,
   "metadata": {},
   "outputs": [],
   "source": [
    "data = read_json('data/project_config.json')\n",
    "steps = data['steps']"
   ]
  },
  {
   "cell_type": "markdown",
   "metadata": {},
   "source": [
    "# Part 1 Data Exploration and Evaluation\n",
    "- [x] Clean columns, carry forward\n",
    "`['loan_amnt’, 'funded_amnt’, 'term’, 'int_rate’, 'grade’, 'annual_inc’, 'issue_d’, 'dti’, 'revol_bal’, 'total_pymnt’, 'loan_status’]`\n",
    "\n",
    "- [x] Perform any necessary cleaning and aggregations to explore and better\n",
    "  understand the dataset.\n",
    "  - [x] Describe the `data.describe()`\n",
    "\n",
    "- [x] Describe any assumptions you made to handle null variables and outliers.\n",
    "    - [x] Remove outliers for Annual Income\n",
    "    - [x] Remove outliers for DTI\n",
    "    - [x] Total credit revolving balance (revol_bal)\n",
    "\n",
    "- [x] Describe the distributions of the features.\n",
    "    - [x] Include two data visualizations and \n",
    "    - [x] Two summary statistics to support these findings."
   ]
  },
  {
   "cell_type": "code",
   "execution_count": 9,
   "metadata": {},
   "outputs": [],
   "source": [
    "# df = setup_workspace_retrieve_and_parse_data(data)"
   ]
  },
  {
   "cell_type": "markdown",
   "metadata": {},
   "source": [
    "Three columns have outliers in the distribution:\n",
    "* Annual Income\n",
    "* DTI\n",
    "* Total credit revolving balance\n",
    "\n",
    "## Variables with Outliers\n",
    "#### Annual Income\n",
    "![annual_inc](img/pre_filter/annual_inc.png)\n",
    "#### DTI\n",
    "![dti](img/pre_filter/dti.png)\n",
    "#### Total credit revolving balance\n",
    "![revol_bal](img/pre_filter/revol_bal.png)\n",
    "\n",
    "Rows with >= 3 or <= -3 Z-score were removed. The following are the filtered histograms;\n",
    "\n",
    "## Variables filtered Outliers\n",
    "#### Annual Income\n",
    "![annual_inc](img/annual_inc.png)\n",
    "#### DTI\n",
    "![dti](img/dti.png)\n",
    "#### Total credit revolving balance\n",
    "![revol_bal](img/revol_bal.png)"
   ]
  },
  {
   "cell_type": "code",
   "execution_count": 11,
   "metadata": {},
   "outputs": [
    {
     "ename": "NameError",
     "evalue": "name 'df' is not defined",
     "output_type": "error",
     "traceback": [
      "\u001b[0;31m---------------------------------------------------------------------------\u001b[0m",
      "\u001b[0;31mNameError\u001b[0m                                 Traceback (most recent call last)",
      "\u001b[0;32m<ipython-input-11-ea8415b8a3ee>\u001b[0m in \u001b[0;36m<module>\u001b[0;34m\u001b[0m\n\u001b[0;32m----> 1\u001b[0;31m \u001b[0mdf\u001b[0m\u001b[0;34m.\u001b[0m\u001b[0mdescribe\u001b[0m\u001b[0;34m(\u001b[0m\u001b[0;34m)\u001b[0m\u001b[0;34m\u001b[0m\u001b[0;34m\u001b[0m\u001b[0m\n\u001b[0m",
      "\u001b[0;31mNameError\u001b[0m: name 'df' is not defined"
     ]
    }
   ],
   "source": [
    "df.describe()"
   ]
  },
  {
   "cell_type": "markdown",
   "metadata": {},
   "source": [
    "# Part 2 Business Analysis\n",
    "- [x] Assume a 36 month investment period for each loan, and exclude loans with less than 36 months of data available.\n",
    "\n",
    "- [x] What percentage of loans has been fully paid?\n",
    "    * **0.7562866221941765**\n",
    "\n",
    "- [x] When bucketed by year of origination and grade, which cohort has the highest rate of defaults? Here you may assume that any loan which was not fully paid had “defaulted”.\n",
    "\n",
    "- [x] When bucketed by year of origination and grade, what annualized rate of return have these loans generated on average?\n",
    "      \n",
    "    * For simplicity, use the following approximation:\n",
    "      `Annualized rate of return = (total_pymnt / funded_amnt) ^ (1/3) - 1`\n"
   ]
  },
  {
   "cell_type": "code",
   "execution_count": null,
   "metadata": {},
   "outputs": [],
   "source": []
  },
  {
   "cell_type": "code",
   "execution_count": null,
   "metadata": {},
   "outputs": [],
   "source": []
  },
  {
   "cell_type": "code",
   "execution_count": null,
   "metadata": {},
   "outputs": [],
   "source": []
  }
 ],
 "metadata": {
  "kernelspec": {
   "display_name": "Python 3",
   "language": "python",
   "name": "python3"
  },
  "language_info": {
   "codemirror_mode": {
    "name": "ipython",
    "version": 3
   },
   "file_extension": ".py",
   "mimetype": "text/x-python",
   "name": "python",
   "nbconvert_exporter": "python",
   "pygments_lexer": "ipython3",
   "version": "3.7.3"
  }
 },
 "nbformat": 4,
 "nbformat_minor": 2
}
