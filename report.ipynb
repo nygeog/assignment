{
 "cells": [
  {
   "cell_type": "markdown",
   "metadata": {},
   "source": [
    "# Assignment\n",
    "### Dependencies\n",
    "Using Python 3.7\n",
    "\n",
    "    pip install ipython\n",
    "    pip install pandas\n",
    "    pip install matplotlib\n",
    "    pip install -U scikit-learn\n",
    "    pip install jupyter notebook\n",
    "    \n",
    "### Import functions"
   ]
  },
  {
   "cell_type": "code",
   "execution_count": 1,
   "metadata": {},
   "outputs": [],
   "source": [
    "from tools.helpers import read_json, pandas_keep_columns, retrieve_data, create_project_workspace\n",
    "from assignment import setup_workspace_retrieve_and_parse_data, select_historic_data\n",
    "from assignment import annualized_rate_of_return, logistic_regression\n",
    "from sklearn.linear_model import LogisticRegression\n",
    "from sklearn.model_selection import train_test_split\n",
    "from sklearn.metrics import confusion_matrix\n",
    "from sklearn.metrics import classification_report\n",
    "from sklearn.metrics import roc_auc_score\n",
    "from sklearn.metrics import roc_curve\n",
    "import pandas as pd\n",
    "import numpy as np\n",
    "import matplotlib.pyplot as plt\n",
    "import importlib\n",
    "plt.rcParams['figure.figsize'] = [15, 5]\n",
    "%matplotlib inline"
   ]
  },
  {
   "cell_type": "code",
   "execution_count": 2,
   "metadata": {},
   "outputs": [],
   "source": [
    "%load_ext autoreload\n",
    "%autoreload 2"
   ]
  },
  {
   "cell_type": "markdown",
   "metadata": {},
   "source": [
    "### Read Project Configuration file\n",
    "This contains download link, file names and columns to use. "
   ]
  },
  {
   "cell_type": "code",
   "execution_count": 13,
   "metadata": {},
   "outputs": [],
   "source": [
    "data = read_json('data/project_config.json')\n",
    "steps = data['steps']"
   ]
  },
  {
   "cell_type": "markdown",
   "metadata": {},
   "source": [
    "# Part 1 Data Exploration and Evaluation\n",
    "- [x] Clean columns, carry forward\n",
    "`['loan_amnt’, 'funded_amnt’, 'term’, 'int_rate’, 'grade’, 'annual_inc’, 'issue_d’, 'dti’, 'revol_bal’, 'total_pymnt’, 'loan_status’]`\n",
    "\n",
    "- [x] Perform any necessary cleaning and aggregations to explore and better\n",
    "  understand the dataset.\n",
    "  - [x] Describe the `data.describe()`\n",
    "\n",
    "- [x] Describe any assumptions you made to handle null variables and outliers.\n",
    "    - [x] Remove outliers for Annual Income\n",
    "    - [x] Remove outliers for DTI\n",
    "    - [x] Total credit revolving balance (revol_bal)\n",
    "\n",
    "- [x] Describe the distributions of the features.\n",
    "    - [x] Include two data visualizations and \n",
    "    - [x] Two summary statistics to support these findings."
   ]
  },
  {
   "cell_type": "code",
   "execution_count": 9,
   "metadata": {},
   "outputs": [],
   "source": [
    "# df = setup_workspace_retrieve_and_parse_data(data)"
   ]
  },
  {
   "cell_type": "markdown",
   "metadata": {},
   "source": [
    "Three columns have outliers in the distribution:\n",
    "* Annual Income\n",
    "* DTI\n",
    "* Total credit revolving balance\n",
    "\n",
    "## Variables with Outliers\n",
    "#### Annual Income\n",
    "![annual_inc](img/pre_filter/annual_inc.png)\n",
    "#### DTI\n",
    "![dti](img/pre_filter/dti.png)\n",
    "#### Total credit revolving balance\n",
    "![revol_bal](img/pre_filter/revol_bal.png)\n",
    "\n",
    "Rows with >= 3 or <= -3 Z-score were removed. The following are the filtered histograms;\n",
    "\n",
    "## Variables filtered Outliers\n",
    "#### Annual Income\n",
    "![annual_inc](img/annual_inc.png)\n",
    "#### DTI\n",
    "![dti](img/dti.png)\n",
    "#### Total credit revolving balance\n",
    "![revol_bal](img/revol_bal.png)"
   ]
  },
  {
   "cell_type": "code",
   "execution_count": 2,
   "metadata": {},
   "outputs": [
    {
     "data": {
      "text/html": [
       "<div>\n",
       "<style scoped>\n",
       "    .dataframe tbody tr th:only-of-type {\n",
       "        vertical-align: middle;\n",
       "    }\n",
       "\n",
       "    .dataframe tbody tr th {\n",
       "        vertical-align: top;\n",
       "    }\n",
       "\n",
       "    .dataframe thead th {\n",
       "        text-align: right;\n",
       "    }\n",
       "</style>\n",
       "<table border=\"1\" class=\"dataframe\">\n",
       "  <thead>\n",
       "    <tr style=\"text-align: right;\">\n",
       "      <th></th>\n",
       "      <th>loan_amnt</th>\n",
       "      <th>funded_amnt</th>\n",
       "      <th>int_rate</th>\n",
       "      <th>annual_inc</th>\n",
       "      <th>dti</th>\n",
       "      <th>revol_bal</th>\n",
       "      <th>total_pymnt</th>\n",
       "      <th>issue_year</th>\n",
       "      <th>issue_month</th>\n",
       "      <th>months</th>\n",
       "      <th>default</th>\n",
       "      <th>annualized_rate_return</th>\n",
       "      <th>z_score_annual_inc</th>\n",
       "      <th>z_score_revol_bal</th>\n",
       "      <th>z_score_dti</th>\n",
       "    </tr>\n",
       "  </thead>\n",
       "  <tbody>\n",
       "    <tr>\n",
       "      <th>count</th>\n",
       "      <td>2.213821e+06</td>\n",
       "      <td>2.213821e+06</td>\n",
       "      <td>2.213821e+06</td>\n",
       "      <td>2.213821e+06</td>\n",
       "      <td>2.213821e+06</td>\n",
       "      <td>2.213821e+06</td>\n",
       "      <td>2.213821e+06</td>\n",
       "      <td>2.213821e+06</td>\n",
       "      <td>2.213821e+06</td>\n",
       "      <td>2.213821e+06</td>\n",
       "      <td>2.213821e+06</td>\n",
       "      <td>2.213821e+06</td>\n",
       "      <td>2.213821e+06</td>\n",
       "      <td>2.213821e+06</td>\n",
       "      <td>2.213821e+06</td>\n",
       "    </tr>\n",
       "    <tr>\n",
       "      <th>mean</th>\n",
       "      <td>1.487242e+04</td>\n",
       "      <td>1.486724e+04</td>\n",
       "      <td>1.310676e+01</td>\n",
       "      <td>7.508537e+04</td>\n",
       "      <td>1.841688e+01</td>\n",
       "      <td>1.473499e+04</td>\n",
       "      <td>1.172318e+04</td>\n",
       "      <td>2.015848e+03</td>\n",
       "      <td>6.750350e+00</td>\n",
       "      <td>3.065078e+01</td>\n",
       "      <td>5.375566e-01</td>\n",
       "      <td>-1.076321e-01</td>\n",
       "      <td>-2.579554e-02</td>\n",
       "      <td>-8.097000e-02</td>\n",
       "      <td>-2.707846e-02</td>\n",
       "    </tr>\n",
       "    <tr>\n",
       "      <th>std</th>\n",
       "      <td>9.074879e+03</td>\n",
       "      <td>9.072984e+03</td>\n",
       "      <td>4.825068e+00</td>\n",
       "      <td>4.369579e+04</td>\n",
       "      <td>8.864596e+00</td>\n",
       "      <td>1.272795e+04</td>\n",
       "      <td>9.790934e+03</td>\n",
       "      <td>1.793568e+00</td>\n",
       "      <td>3.408234e+00</td>\n",
       "      <td>2.162006e+01</td>\n",
       "      <td>4.985876e-01</td>\n",
       "      <td>1.996257e-01</td>\n",
       "      <td>3.877308e-01</td>\n",
       "      <td>5.949982e-01</td>\n",
       "      <td>6.292046e-01</td>\n",
       "    </tr>\n",
       "    <tr>\n",
       "      <th>min</th>\n",
       "      <td>5.000000e+02</td>\n",
       "      <td>5.000000e+02</td>\n",
       "      <td>5.310000e+00</td>\n",
       "      <td>0.000000e+00</td>\n",
       "      <td>-1.000000e+00</td>\n",
       "      <td>0.000000e+00</td>\n",
       "      <td>0.000000e+00</td>\n",
       "      <td>2.007000e+03</td>\n",
       "      <td>1.000000e+00</td>\n",
       "      <td>0.000000e+00</td>\n",
       "      <td>0.000000e+00</td>\n",
       "      <td>-1.000000e+00</td>\n",
       "      <td>-6.920591e-01</td>\n",
       "      <td>-7.697921e-01</td>\n",
       "      <td>-1.405279e+00</td>\n",
       "    </tr>\n",
       "    <tr>\n",
       "      <th>25%</th>\n",
       "      <td>8.000000e+03</td>\n",
       "      <td>8.000000e+03</td>\n",
       "      <td>9.490000e+00</td>\n",
       "      <td>4.600000e+04</td>\n",
       "      <td>1.186000e+01</td>\n",
       "      <td>5.874000e+03</td>\n",
       "      <td>4.252910e+03</td>\n",
       "      <td>2.015000e+03</td>\n",
       "      <td>4.000000e+00</td>\n",
       "      <td>1.200000e+01</td>\n",
       "      <td>0.000000e+00</td>\n",
       "      <td>-2.506934e-01</td>\n",
       "      <td>-2.838821e-01</td>\n",
       "      <td>-4.951981e-01</td>\n",
       "      <td>-4.924827e-01</td>\n",
       "    </tr>\n",
       "    <tr>\n",
       "      <th>50%</th>\n",
       "      <td>1.250000e+04</td>\n",
       "      <td>1.250000e+04</td>\n",
       "      <td>1.262000e+01</td>\n",
       "      <td>6.500000e+04</td>\n",
       "      <td>1.777000e+01</td>\n",
       "      <td>1.112500e+04</td>\n",
       "      <td>9.008950e+03</td>\n",
       "      <td>2.016000e+03</td>\n",
       "      <td>7.000000e+00</td>\n",
       "      <td>2.900000e+01</td>\n",
       "      <td>1.000000e+00</td>\n",
       "      <td>3.957914e-03</td>\n",
       "      <td>-1.152872e-01</td>\n",
       "      <td>-2.497277e-01</td>\n",
       "      <td>-7.299380e-02</td>\n",
       "    </tr>\n",
       "    <tr>\n",
       "      <th>75%</th>\n",
       "      <td>2.000000e+04</td>\n",
       "      <td>2.000000e+04</td>\n",
       "      <td>1.599000e+01</td>\n",
       "      <td>9.100000e+04</td>\n",
       "      <td>2.437000e+01</td>\n",
       "      <td>1.962600e+04</td>\n",
       "      <td>1.656851e+04</td>\n",
       "      <td>2.017000e+03</td>\n",
       "      <td>1.000000e+01</td>\n",
       "      <td>4.400000e+01</td>\n",
       "      <td>1.000000e+00</td>\n",
       "      <td>4.367308e-02</td>\n",
       "      <td>1.154216e-01</td>\n",
       "      <td>1.476717e-01</td>\n",
       "      <td>3.954709e-01</td>\n",
       "    </tr>\n",
       "    <tr>\n",
       "      <th>max</th>\n",
       "      <td>4.000000e+04</td>\n",
       "      <td>4.000000e+04</td>\n",
       "      <td>3.099000e+01</td>\n",
       "      <td>4.160000e+05</td>\n",
       "      <td>6.106000e+01</td>\n",
       "      <td>8.063900e+04</td>\n",
       "      <td>6.329688e+04</td>\n",
       "      <td>2.018000e+03</td>\n",
       "      <td>1.200000e+01</td>\n",
       "      <td>1.380000e+02</td>\n",
       "      <td>1.000000e+00</td>\n",
       "      <td>2.947122e-01</td>\n",
       "      <td>2.999281e+00</td>\n",
       "      <td>2.999869e+00</td>\n",
       "      <td>2.999709e+00</td>\n",
       "    </tr>\n",
       "  </tbody>\n",
       "</table>\n",
       "</div>"
      ],
      "text/plain": [
       "          loan_amnt   funded_amnt      int_rate    annual_inc           dti  \\\n",
       "count  2.213821e+06  2.213821e+06  2.213821e+06  2.213821e+06  2.213821e+06   \n",
       "mean   1.487242e+04  1.486724e+04  1.310676e+01  7.508537e+04  1.841688e+01   \n",
       "std    9.074879e+03  9.072984e+03  4.825068e+00  4.369579e+04  8.864596e+00   \n",
       "min    5.000000e+02  5.000000e+02  5.310000e+00  0.000000e+00 -1.000000e+00   \n",
       "25%    8.000000e+03  8.000000e+03  9.490000e+00  4.600000e+04  1.186000e+01   \n",
       "50%    1.250000e+04  1.250000e+04  1.262000e+01  6.500000e+04  1.777000e+01   \n",
       "75%    2.000000e+04  2.000000e+04  1.599000e+01  9.100000e+04  2.437000e+01   \n",
       "max    4.000000e+04  4.000000e+04  3.099000e+01  4.160000e+05  6.106000e+01   \n",
       "\n",
       "          revol_bal   total_pymnt    issue_year   issue_month        months  \\\n",
       "count  2.213821e+06  2.213821e+06  2.213821e+06  2.213821e+06  2.213821e+06   \n",
       "mean   1.473499e+04  1.172318e+04  2.015848e+03  6.750350e+00  3.065078e+01   \n",
       "std    1.272795e+04  9.790934e+03  1.793568e+00  3.408234e+00  2.162006e+01   \n",
       "min    0.000000e+00  0.000000e+00  2.007000e+03  1.000000e+00  0.000000e+00   \n",
       "25%    5.874000e+03  4.252910e+03  2.015000e+03  4.000000e+00  1.200000e+01   \n",
       "50%    1.112500e+04  9.008950e+03  2.016000e+03  7.000000e+00  2.900000e+01   \n",
       "75%    1.962600e+04  1.656851e+04  2.017000e+03  1.000000e+01  4.400000e+01   \n",
       "max    8.063900e+04  6.329688e+04  2.018000e+03  1.200000e+01  1.380000e+02   \n",
       "\n",
       "            default  annualized_rate_return  z_score_annual_inc  \\\n",
       "count  2.213821e+06            2.213821e+06        2.213821e+06   \n",
       "mean   5.375566e-01           -1.076321e-01       -2.579554e-02   \n",
       "std    4.985876e-01            1.996257e-01        3.877308e-01   \n",
       "min    0.000000e+00           -1.000000e+00       -6.920591e-01   \n",
       "25%    0.000000e+00           -2.506934e-01       -2.838821e-01   \n",
       "50%    1.000000e+00            3.957914e-03       -1.152872e-01   \n",
       "75%    1.000000e+00            4.367308e-02        1.154216e-01   \n",
       "max    1.000000e+00            2.947122e-01        2.999281e+00   \n",
       "\n",
       "       z_score_revol_bal   z_score_dti  \n",
       "count       2.213821e+06  2.213821e+06  \n",
       "mean       -8.097000e-02 -2.707846e-02  \n",
       "std         5.949982e-01  6.292046e-01  \n",
       "min        -7.697921e-01 -1.405279e+00  \n",
       "25%        -4.951981e-01 -4.924827e-01  \n",
       "50%        -2.497277e-01 -7.299380e-02  \n",
       "75%         1.476717e-01  3.954709e-01  \n",
       "max         2.999869e+00  2.999709e+00  "
      ]
     },
     "execution_count": 2,
     "metadata": {},
     "output_type": "execute_result"
    }
   ],
   "source": [
    "df = pd.read_csv(\n",
    "    'data/processing/data_filtered.csv',\n",
    "    low_memory=False,\n",
    "    parse_dates=['issue_date']\n",
    ")\n",
    "\n",
    "df.describe()"
   ]
  },
  {
   "cell_type": "markdown",
   "metadata": {},
   "source": [
    "# Part 2 Business Analysis\n",
    "- [x] Assume a 36 month investment period for each loan, and exclude loans with less than 36 months of data available.\n",
    "\n",
    "- [x] What percentage of loans has been fully paid?\n",
    "\n",
    "- [x] When bucketed by year of origination and grade, which cohort has the highest rate of defaults? Here you may assume that any loan which was not fully paid had “defaulted”.\n",
    "\n",
    "- [x] When bucketed by year of origination and grade, what annualized rate of return have these loans generated on average?\n",
    "      \n",
    "    * For simplicity, use the following approximation:\n",
    "      `Annualized rate of return = (total_pymnt / funded_amnt) ^ (1/3) - 1`\n"
   ]
  },
  {
   "cell_type": "code",
   "execution_count": 3,
   "metadata": {},
   "outputs": [
    {
     "name": "stdout",
     "output_type": "stream",
     "text": [
      "    75.61% of loans Fully Paid excluding < 36 months\n"
     ]
    },
    {
     "data": {
      "image/png": "[encoded data removed]",
      "text/plain": [
       "<Figure size 1080x360 with 1 Axes>"
      ]
     },
     "metadata": {
      "needs_background": "light"
     },
     "output_type": "display_data"
    }
   ],
   "source": [
    "select_historic_data(df)"
   ]
  },
  {
   "cell_type": "markdown",
   "metadata": {},
   "source": [
    "# Part 3 Modeling\n",
    "- [ ] Build a logistic regression model to predict loan defaults\n",
    "\n",
    "- [ ] Assume that\n",
    "\n",
    "    - [ ] (i) You are given the ability to invest in each loan independently\n",
    "    \n",
    "    - [ ] (ii) You invest immediately following loan origination and hold to maturity (36 months)\n",
    "    \n",
    "    - [ ] (iii) All loan fields that would be known upon origination are made available to you.\n",
    "\n",
    "- [ ] Was the model effective? \n",
    "    - [ ] Explain how you validated your model and describe how you measure the performance of the model.\n",
    "    \n",
    "    "
   ]
  },
  {
   "cell_type": "code",
   "execution_count": 4,
   "metadata": {},
   "outputs": [
    {
     "name": "stdout",
     "output_type": "stream",
     "text": [
      "    creating annualized rate of return.\n"
     ]
    },
    {
     "data": {
      "image/png": "[encoded data removed]",
      "text/plain": [
       "<Figure size 1080x360 with 1 Axes>"
      ]
     },
     "metadata": {
      "needs_background": "light"
     },
     "output_type": "display_data"
    },
    {
     "data": {
      "image/png": "[encoded data removed]",
      "text/plain": [
       "<Figure size 1080x360 with 1 Axes>"
      ]
     },
     "metadata": {
      "needs_background": "light"
     },
     "output_type": "display_data"
    }
   ],
   "source": [
    "annualized_rate_of_return(df)"
   ]
  },
  {
   "cell_type": "code",
   "execution_count": 5,
   "metadata": {},
   "outputs": [
    {
     "name": "stdout",
     "output_type": "stream",
     "text": [
      "    Accuracy of logistic regression on test: 92.36%\n",
      "    Confusion Matrix Plot\n",
      "[[297403   9776]\n",
      " [ 40964 316004]]\n",
      "    Classification Report\n",
      "              precision    recall  f1-score   support\n",
      "\n",
      "           0       0.88      0.97      0.92    307179\n",
      "           1       0.97      0.89      0.93    356968\n",
      "\n",
      "    accuracy                           0.92    664147\n",
      "   macro avg       0.92      0.93      0.92    664147\n",
      "weighted avg       0.93      0.92      0.92    664147\n",
      "\n"
     ]
    },
    {
     "data": {
      "image/png": "[encoded data removed]",
      "text/plain": [
       "<Figure size 720x360 with 1 Axes>"
      ]
     },
     "metadata": {
      "needs_background": "light"
     },
     "output_type": "display_data"
    }
   ],
   "source": [
    "logistic_regression(df)"
   ]
  },
  {
   "cell_type": "code",
   "execution_count": null,
   "metadata": {},
   "outputs": [],
   "source": []
  },
  {
   "cell_type": "code",
   "execution_count": null,
   "metadata": {},
   "outputs": [],
   "source": []
  },
  {
   "cell_type": "code",
   "execution_count": null,
   "metadata": {},
   "outputs": [],
   "source": []
  }
 ],
 "metadata": {
  "kernelspec": {
   "display_name": "Python 3",
   "language": "python",
   "name": "python3"
  },
  "language_info": {
   "codemirror_mode": {
    "name": "ipython",
    "version": 3
   },
   "file_extension": ".py",
   "mimetype": "text/x-python",
   "name": "python",
   "nbconvert_exporter": "python",
   "pygments_lexer": "ipython3",
   "version": "3.7.3"
  }
 },
 "nbformat": 4,
 "nbformat_minor": 2
}
