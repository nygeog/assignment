{
 "cells": [
  {
   "cell_type": "code",
   "execution_count": 2,
   "metadata": {},
   "outputs": [],
   "source": [
    "from tools.helpers import read_json, pandas_keep_columns\n",
    "from sklearn.linear_model import LogisticRegression\n",
    "from sklearn.metrics import accuracy_score\n",
    "import pandas as pd\n",
    "import numpy as np\n",
    "import matplotlib.pyplot as plt\n",
    "plt.rcParams['figure.figsize'] = [15, 5]"
   ]
  },
  {
   "cell_type": "code",
   "execution_count": 3,
   "metadata": {},
   "outputs": [
    {
     "name": "stdout",
     "output_type": "stream",
     "text": [
      "    loan_amnt  funded_amnt  int_rate  annual_inc    dti  revol_bal  \\\n",
      "0        2500         2500     13.56     55000.0  18.24       4341   \n",
      "1       30000        30000     18.94     90000.0  26.52      12315   \n",
      "2        5000         5000     17.97     59280.0  10.51       4599   \n",
      "3        4000         4000     18.94     92000.0  16.74       5468   \n",
      "4       30000        30000     16.14     57250.0  26.35        829   \n",
      "5        5550         5550     15.02    152500.0  37.94      53854   \n",
      "6        2000         2000     17.97     51000.0   2.40          0   \n",
      "7        6000         6000     13.56     65000.0  30.10      38476   \n",
      "8        5000         5000     17.97     53580.0  21.16       8018   \n",
      "9        6000         6000     14.47    300000.0  17.43      65950   \n",
      "10       5500         5500     22.35     50000.0  15.94       4529   \n",
      "11      28000        28000     11.31     70000.0  22.01      56152   \n",
      "12      11200        11200      8.19     65000.0  23.60       8836   \n",
      "13       6500         6500     17.97    154000.0  28.78      23754   \n",
      "14      22000        22000     12.98     65000.0  11.19        134   \n",
      "\n",
      "    total_pymnt  issue_year  issue_month  months  ...  annualized_rate_return  \\\n",
      "0        167.02        2018           12       0  ...               -0.594234   \n",
      "1       1507.11        2018           12       0  ...               -0.631016   \n",
      "2        353.89        2018           12       0  ...               -0.586350   \n",
      "3        286.71        2018           12       0  ...               -0.584605   \n",
      "4       1423.21        2018           12       0  ...               -0.637994   \n",
      "5        377.95        2018           12       0  ...               -0.591636   \n",
      "6        141.56        2018           12       0  ...               -0.586346   \n",
      "7        201.53        2018           12       0  ...               -0.677352   \n",
      "8        353.89        2018           12       0  ...               -0.586350   \n",
      "9        405.64        2018           12       0  ...               -0.592623   \n",
      "10       411.86        2018           12       0  ...               -0.578502   \n",
      "11      1199.87        2018           12       0  ...               -0.650061   \n",
      "12       696.26        2018           12       0  ...               -0.603858   \n",
      "13       460.07        2018           12       0  ...               -0.586346   \n",
      "14       976.90        2018           12       0  ...               -0.645887   \n",
      "\n",
      "    term_ 36 months  term_ 60 months  grade_A  grade_B  grade_C  grade_D  \\\n",
      "0                 1                0        0        0        1        0   \n",
      "1                 0                1        0        0        0        1   \n",
      "2                 1                0        0        0        0        1   \n",
      "3                 1                0        0        0        0        1   \n",
      "4                 0                1        0        0        1        0   \n",
      "5                 1                0        0        0        1        0   \n",
      "6                 1                0        0        0        0        1   \n",
      "7                 1                0        0        0        1        0   \n",
      "8                 1                0        0        0        0        1   \n",
      "9                 1                0        0        0        1        0   \n",
      "10                1                0        0        0        0        1   \n",
      "11                0                1        0        1        0        0   \n",
      "12                1                0        1        0        0        0   \n",
      "13                1                0        0        0        0        1   \n",
      "14                0                1        0        1        0        0   \n",
      "\n",
      "    grade_E  grade_F  grade_G  \n",
      "0         0        0        0  \n",
      "1         0        0        0  \n",
      "2         0        0        0  \n",
      "3         0        0        0  \n",
      "4         0        0        0  \n",
      "5         0        0        0  \n",
      "6         0        0        0  \n",
      "7         0        0        0  \n",
      "8         0        0        0  \n",
      "9         0        0        0  \n",
      "10        0        0        0  \n",
      "11        0        0        0  \n",
      "12        0        0        0  \n",
      "13        0        0        0  \n",
      "14        0        0        0  \n",
      "\n",
      "[15 rows x 21 columns]\n"
     ]
    },
    {
     "name": "stderr",
     "output_type": "stream",
     "text": [
      "/Users/danielmsheehan/Documents/GitHub/assignment/venv/lib/python3.7/site-packages/sklearn/linear_model/logistic.py:947: ConvergenceWarning: lbfgs failed to converge. Increase the number of iterations.\n",
      "  \"of iterations.\", ConvergenceWarning)\n"
     ]
    },
    {
     "name": "stdout",
     "output_type": "stream",
     "text": [
      "0.9278789929267091\n",
      "[[ 1.77758235e-04  9.20367363e-04  1.04452247e-02 -6.33018672e-06\n",
      "   6.75703843e-03  9.88899137e-06 -1.03128825e-03 -1.91751668e-04\n",
      "  -1.19949319e-03 -1.52091946e-02 -2.27029236e-04 -6.96865667e-04\n",
      "   6.96089970e-04 -7.16810072e-04 -3.28573597e-04  2.61493761e-04\n",
      "   3.77780159e-04  2.82351541e-04  9.72826698e-05  2.56998404e-05]]\n"
     ]
    }
   ],
   "source": [
    "df = pd.read_csv(\n",
    "    'data/processing/data_filtered.csv',\n",
    "    low_memory=False,\n",
    ")\n",
    "\n",
    "df = df.drop(\n",
    "    [\n",
    "        'issue_date',\n",
    "        'z_score_annual_inc',\n",
    "        'z_score_revol_bal',\n",
    "        'z_score_dti',\n",
    "        'year_grade',\n",
    "        'loan_status',\n",
    "        'max_date',\n",
    "        'issue_d',\n",
    "    ],\n",
    "    axis=1,\n",
    ")\n",
    "\n",
    "one_hot = pd.get_dummies(df)\n",
    "\n",
    "print(one_hot.head(15))\n",
    "\n",
    "x = one_hot.drop('default', axis=1)\n",
    "y = df[['default']]\n",
    "\n",
    "# x.to_csv('data/processing/data_filtered_train.csv')\n",
    "\n",
    "model = LogisticRegression(solver='lbfgs')\n",
    "model.fit(x, y.values.ravel())\n",
    "predicted_classes = model.predict(x)\n",
    "#accuracy = accuracy_score(y.flatten(), predicted_classes)\n",
    "accuracy = accuracy_score(y.values.ravel(), predicted_classes)\n",
    "parameters = model.coef_\n",
    "print(accuracy)\n",
    "print(parameters)"
   ]
  },
  {
   "cell_type": "code",
   "execution_count": null,
   "metadata": {},
   "outputs": [],
   "source": []
  }
 ],
 "metadata": {
  "kernelspec": {
   "display_name": "Python 3",
   "language": "python",
   "name": "python3"
  },
  "language_info": {
   "codemirror_mode": {
    "name": "ipython",
    "version": 3
   },
   "file_extension": ".py",
   "mimetype": "text/x-python",
   "name": "python",
   "nbconvert_exporter": "python",
   "pygments_lexer": "ipython3",
   "version": "3.7.2"
  }
 },
 "nbformat": 4,
 "nbformat_minor": 2
}
